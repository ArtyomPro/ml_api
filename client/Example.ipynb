{
 "cells": [
  {
   "cell_type": "code",
   "execution_count": 1,
   "id": "b012a2be-fd29-4acd-bb4f-8362d4ae8c70",
   "metadata": {},
   "outputs": [],
   "source": [
    "from ml_api import *\n",
    "import pandas as pd\n",
    "import numpy as  np"
   ]
  },
  {
   "cell_type": "code",
   "execution_count": 2,
   "id": "ef6c3dfc-8919-43cb-b072-dc5964d837b9",
   "metadata": {},
   "outputs": [],
   "source": [
    "# загружаем train dataset\n",
    "data = pd.read_csv('set_trn.csv')"
   ]
  },
  {
   "cell_type": "code",
   "execution_count": 3,
   "id": "18fc3fce-6821-47ea-9705-673053c7c5e5",
   "metadata": {},
   "outputs": [],
   "source": [
    "data['target'] = 1\n",
    "data.loc[data['store_and_fwd_flag'] == 'N', 'target'] = 0"
   ]
  },
  {
   "cell_type": "code",
   "execution_count": 4,
   "id": "ab7bec4a-3164-4506-b1a2-a8b869ed55f0",
   "metadata": {},
   "outputs": [],
   "source": [
    "# каждый инстанс модели имеет уникальный uuid сессии. Каждый новый инстанс имеет доступ к личном простарнству для \n",
    "# хранения выборок и результатов работы моделей\n",
    "api = MlApi()"
   ]
  },
  {
   "cell_type": "code",
   "execution_count": 5,
   "id": "946075ec-91c0-49b5-aac1-34e9d5221311",
   "metadata": {},
   "outputs": [
    {
     "name": "stdout",
     "output_type": "stream",
     "text": [
      "data uploading...\n",
      "data upload\n"
     ]
    }
   ],
   "source": [
    "# загружаем train dataset на сервер\n",
    "api.load_dataset('train',data)"
   ]
  },
  {
   "cell_type": "code",
   "execution_count": 6,
   "id": "6e28a3e2-6179-4d9b-a20c-22083610c380",
   "metadata": {},
   "outputs": [],
   "source": [
    "# добавляем модели \n",
    "api.add_model('LG','LogisticRegression',{})\n",
    "api.add_model('RF','RandomForestClassifier',{})"
   ]
  },
  {
   "cell_type": "code",
   "execution_count": 7,
   "id": "23052012-fa91-4d54-8238-3620d3c4e70b",
   "metadata": {},
   "outputs": [
    {
     "data": {
      "text/html": [
       "<div>\n",
       "<style scoped>\n",
       "    .dataframe tbody tr th:only-of-type {\n",
       "        vertical-align: middle;\n",
       "    }\n",
       "\n",
       "    .dataframe tbody tr th {\n",
       "        vertical-align: top;\n",
       "    }\n",
       "\n",
       "    .dataframe thead th {\n",
       "        text-align: right;\n",
       "    }\n",
       "</style>\n",
       "<table border=\"1\" class=\"dataframe\">\n",
       "  <thead>\n",
       "    <tr style=\"text-align: right;\">\n",
       "      <th></th>\n",
       "      <th>Model name</th>\n",
       "      <th>type</th>\n",
       "      <th>params</th>\n",
       "      <th>fitted</th>\n",
       "    </tr>\n",
       "  </thead>\n",
       "  <tbody>\n",
       "    <tr>\n",
       "      <th>0</th>\n",
       "      <td>LG</td>\n",
       "      <td>LogisticRegression</td>\n",
       "      <td>{}</td>\n",
       "      <td>False</td>\n",
       "    </tr>\n",
       "    <tr>\n",
       "      <th>1</th>\n",
       "      <td>RF</td>\n",
       "      <td>RandomForestClassifier</td>\n",
       "      <td>{}</td>\n",
       "      <td>False</td>\n",
       "    </tr>\n",
       "  </tbody>\n",
       "</table>\n",
       "</div>"
      ],
      "text/plain": [
       "  Model name                    type params  fitted\n",
       "0         LG      LogisticRegression     {}   False\n",
       "1         RF  RandomForestClassifier     {}   False"
      ]
     },
     "execution_count": 7,
     "metadata": {},
     "output_type": "execute_result"
    }
   ],
   "source": [
    "api.gel_model_list()"
   ]
  },
  {
   "cell_type": "code",
   "execution_count": 8,
   "id": "cc7adc04-2b84-4cc8-9228-1c7edfd5f569",
   "metadata": {},
   "outputs": [
    {
     "data": {
      "text/plain": [
       "['LogisticRegression',\n",
       " 'RandomForestClassifier',\n",
       " 'LinearRegression',\n",
       " 'RandomForestRegressor',\n",
       " 'DecisionTreeClassifier',\n",
       " 'DecisionTreeRegressor',\n",
       " 'KNeighborsClassifier',\n",
       " 'KNeighborsRegressor']"
      ]
     },
     "execution_count": 8,
     "metadata": {},
     "output_type": "execute_result"
    }
   ],
   "source": [
    "# так можно узнать список доступных классов моделей на сервере\n",
    "api.models_available()"
   ]
  },
  {
   "cell_type": "code",
   "execution_count": 9,
   "id": "c077c577-1f5c-4f94-b98d-8bdcaa3f3e1c",
   "metadata": {},
   "outputs": [
    {
     "name": "stdout",
     "output_type": "stream",
     "text": [
      "Fitting LG...\n",
      "Model LG fitted\n"
     ]
    }
   ],
   "source": [
    "# обчаем модель на факторах из short_list с целевой переменной target\n",
    "short_list = ['passenger_count', 'pickup_longitude', 'pickup_latitude']\n",
    "api.fit_model('LG', short_list, 'target')"
   ]
  },
  {
   "cell_type": "code",
   "execution_count": 10,
   "id": "8564b6c8-ade2-4e94-b278-15e5bb2ab939",
   "metadata": {},
   "outputs": [
    {
     "data": {
      "text/html": [
       "<div>\n",
       "<style scoped>\n",
       "    .dataframe tbody tr th:only-of-type {\n",
       "        vertical-align: middle;\n",
       "    }\n",
       "\n",
       "    .dataframe tbody tr th {\n",
       "        vertical-align: top;\n",
       "    }\n",
       "\n",
       "    .dataframe thead th {\n",
       "        text-align: right;\n",
       "    }\n",
       "</style>\n",
       "<table border=\"1\" class=\"dataframe\">\n",
       "  <thead>\n",
       "    <tr style=\"text-align: right;\">\n",
       "      <th></th>\n",
       "      <th>Model name</th>\n",
       "      <th>type</th>\n",
       "      <th>params</th>\n",
       "      <th>fitted</th>\n",
       "    </tr>\n",
       "  </thead>\n",
       "  <tbody>\n",
       "    <tr>\n",
       "      <th>0</th>\n",
       "      <td>LG</td>\n",
       "      <td>LogisticRegression</td>\n",
       "      <td>{}</td>\n",
       "      <td>True</td>\n",
       "    </tr>\n",
       "    <tr>\n",
       "      <th>1</th>\n",
       "      <td>RF</td>\n",
       "      <td>RandomForestClassifier</td>\n",
       "      <td>{}</td>\n",
       "      <td>False</td>\n",
       "    </tr>\n",
       "  </tbody>\n",
       "</table>\n",
       "</div>"
      ],
      "text/plain": [
       "  Model name                    type params  fitted\n",
       "0         LG      LogisticRegression     {}    True\n",
       "1         RF  RandomForestClassifier     {}   False"
      ]
     },
     "execution_count": 10,
     "metadata": {},
     "output_type": "execute_result"
    }
   ],
   "source": [
    "api.gel_model_list()"
   ]
  },
  {
   "cell_type": "code",
   "execution_count": 11,
   "id": "53daf361-d826-4858-ade0-7ded82969e78",
   "metadata": {},
   "outputs": [
    {
     "name": "stdout",
     "output_type": "stream",
     "text": [
      "data uploading...\n",
      "data upload\n"
     ]
    }
   ],
   "source": [
    "# подгружаем eval dataset\n",
    "data = pd.read_csv('set_test.csv')\n",
    "data['target'] = 1\n",
    "data.loc[data['store_and_fwd_flag'] == 'N', 'target'] = 0\n",
    "\n",
    "api.load_dataset('eval',data)"
   ]
  },
  {
   "cell_type": "code",
   "execution_count": 12,
   "id": "17d99e0f-1274-4ba8-8411-51c4a90bb1c9",
   "metadata": {},
   "outputs": [
    {
     "name": "stdout",
     "output_type": "stream",
     "text": [
      "Evaluating LG...\n",
      "Model LG evaluated\n"
     ]
    }
   ],
   "source": [
    "# оценим модель по мтерике accuracy и roc_auc. Для того, чтобы задать другую метрику необходимо\n",
    "# в словаре metrics в качестве ключа дать название класса из https://scikit-learn.org/stable/modules/classes.html#module-sklearn.metrics\n",
    "# а в качестве значения, что необходимо метрике: предсказание моделей(predict) или вывод вероятностей модели(predict_proba)\n",
    "metrics = {\n",
    "    'accuracy_score':'predict',\n",
    "    'roc_auc_score' : 'predict_proba'\n",
    "}\n",
    "api.evaluate_model('LG', metrics)"
   ]
  },
  {
   "cell_type": "code",
   "execution_count": 13,
   "id": "002ba7e6-6c7e-47ab-8525-6934b5119bac",
   "metadata": {},
   "outputs": [
    {
     "data": {
      "text/plain": [
       "{'LG': {'accuracy_score': 0.9945131763749852,\n",
       "  'roc_auc_score': 0.5732395325586681},\n",
       " 'RF': {}}"
      ]
     },
     "execution_count": 13,
     "metadata": {},
     "output_type": "execute_result"
    }
   ],
   "source": [
    "# выводим реузльтаты оценки модели\n",
    "api.get_evaluation_results()"
   ]
  },
  {
   "cell_type": "code",
   "execution_count": 14,
   "id": "02344383-671d-48ec-8d96-ece999022ba9",
   "metadata": {},
   "outputs": [
    {
     "name": "stdout",
     "output_type": "stream",
     "text": [
      "Predicting LG...\n",
      "Model LG predicted\n"
     ]
    }
   ],
   "source": [
    "# так можно получить предсказания для любого сета (параметр функции sample_type)\n",
    "preds = api.predict_model('LG', 'predict', 'eval')"
   ]
  },
  {
   "cell_type": "code",
   "execution_count": 15,
   "id": "ffa8130c-d3c6-4706-8667-fd5cafb0e674",
   "metadata": {},
   "outputs": [
    {
     "data": {
      "text/plain": [
       "array([0, 0, 0, ..., 0, 0, 0])"
      ]
     },
     "execution_count": 15,
     "metadata": {},
     "output_type": "execute_result"
    }
   ],
   "source": [
    "preds"
   ]
  },
  {
   "cell_type": "code",
   "execution_count": 16,
   "id": "75a06d5a-8456-4034-81a2-fd158104d5db",
   "metadata": {},
   "outputs": [
    {
     "name": "stdout",
     "output_type": "stream",
     "text": [
      "Model LG deleted\n"
     ]
    }
   ],
   "source": [
    "# так можно удалить модель\n",
    "api.delete_model('LG')"
   ]
  },
  {
   "cell_type": "code",
   "execution_count": 17,
   "id": "108e43c9-e046-4868-9d5e-935f3b85bfb9",
   "metadata": {},
   "outputs": [
    {
     "data": {
      "text/html": [
       "<div>\n",
       "<style scoped>\n",
       "    .dataframe tbody tr th:only-of-type {\n",
       "        vertical-align: middle;\n",
       "    }\n",
       "\n",
       "    .dataframe tbody tr th {\n",
       "        vertical-align: top;\n",
       "    }\n",
       "\n",
       "    .dataframe thead th {\n",
       "        text-align: right;\n",
       "    }\n",
       "</style>\n",
       "<table border=\"1\" class=\"dataframe\">\n",
       "  <thead>\n",
       "    <tr style=\"text-align: right;\">\n",
       "      <th></th>\n",
       "      <th>Model name</th>\n",
       "      <th>type</th>\n",
       "      <th>params</th>\n",
       "      <th>fitted</th>\n",
       "    </tr>\n",
       "  </thead>\n",
       "  <tbody>\n",
       "    <tr>\n",
       "      <th>0</th>\n",
       "      <td>RF</td>\n",
       "      <td>RandomForestClassifier</td>\n",
       "      <td>{}</td>\n",
       "      <td>False</td>\n",
       "    </tr>\n",
       "  </tbody>\n",
       "</table>\n",
       "</div>"
      ],
      "text/plain": [
       "  Model name                    type params  fitted\n",
       "0         RF  RandomForestClassifier     {}   False"
      ]
     },
     "execution_count": 17,
     "metadata": {},
     "output_type": "execute_result"
    }
   ],
   "source": [
    "api.gel_model_list()"
   ]
  },
  {
   "cell_type": "code",
   "execution_count": 18,
   "id": "0700c8b9-410c-4391-afac-858de10c9a96",
   "metadata": {},
   "outputs": [
    {
     "name": "stdout",
     "output_type": "stream",
     "text": [
      "Fitting RF...\n",
      "Model RF fitted\n"
     ]
    }
   ],
   "source": [
    "api.fit_model('RF', short_list, 'target')"
   ]
  },
  {
   "cell_type": "code",
   "execution_count": 19,
   "id": "94259f54-9329-4059-97af-70d99c759326",
   "metadata": {},
   "outputs": [
    {
     "name": "stdout",
     "output_type": "stream",
     "text": [
      "Hyperparameters are changed\n"
     ]
    }
   ],
   "source": [
    "# давайте дадим новые гиперпарметры для RF \n",
    "# (!!очень важно!!: если изменить гиперпараметры, то информация об оценки модели сотрется, а также необходимо будет заного её обучить)\n",
    "api.change_hyperparams('RF', params = {'n_estimators':37, 'random_state' : 42})"
   ]
  },
  {
   "cell_type": "code",
   "execution_count": 20,
   "id": "04416a33-8a60-4edd-b667-4409cf35cccc",
   "metadata": {},
   "outputs": [
    {
     "data": {
      "text/html": [
       "<div>\n",
       "<style scoped>\n",
       "    .dataframe tbody tr th:only-of-type {\n",
       "        vertical-align: middle;\n",
       "    }\n",
       "\n",
       "    .dataframe tbody tr th {\n",
       "        vertical-align: top;\n",
       "    }\n",
       "\n",
       "    .dataframe thead th {\n",
       "        text-align: right;\n",
       "    }\n",
       "</style>\n",
       "<table border=\"1\" class=\"dataframe\">\n",
       "  <thead>\n",
       "    <tr style=\"text-align: right;\">\n",
       "      <th></th>\n",
       "      <th>Model name</th>\n",
       "      <th>type</th>\n",
       "      <th>params</th>\n",
       "      <th>fitted</th>\n",
       "    </tr>\n",
       "  </thead>\n",
       "  <tbody>\n",
       "    <tr>\n",
       "      <th>0</th>\n",
       "      <td>RF</td>\n",
       "      <td>RandomForestClassifier</td>\n",
       "      <td>{'n_estimators': 37, 'random_state': 42}</td>\n",
       "      <td>False</td>\n",
       "    </tr>\n",
       "  </tbody>\n",
       "</table>\n",
       "</div>"
      ],
      "text/plain": [
       "  Model name                    type  \\\n",
       "0         RF  RandomForestClassifier   \n",
       "\n",
       "                                     params  fitted  \n",
       "0  {'n_estimators': 37, 'random_state': 42}   False  "
      ]
     },
     "execution_count": 20,
     "metadata": {},
     "output_type": "execute_result"
    }
   ],
   "source": [
    "api.gel_model_list()"
   ]
  },
  {
   "cell_type": "code",
   "execution_count": 21,
   "id": "f9c89aa4-9e5d-4c37-a71c-22288180cb0f",
   "metadata": {},
   "outputs": [
    {
     "name": "stdout",
     "output_type": "stream",
     "text": [
      "Evaluating RF...\n"
     ]
    },
    {
     "ename": "Exception",
     "evalue": "Model not fitted",
     "output_type": "error",
     "traceback": [
      "\u001b[1;31m---------------------------------------------------------------------------\u001b[0m",
      "\u001b[1;31mException\u001b[0m                                 Traceback (most recent call last)",
      "\u001b[1;32m<ipython-input-21-705ed6db7eca>\u001b[0m in \u001b[0;36m<module>\u001b[1;34m\u001b[0m\n\u001b[0;32m      4\u001b[0m     \u001b[1;34m'roc_auc_score'\u001b[0m \u001b[1;33m:\u001b[0m \u001b[1;34m'predict_proba'\u001b[0m\u001b[1;33m\u001b[0m\u001b[1;33m\u001b[0m\u001b[0m\n\u001b[0;32m      5\u001b[0m }\n\u001b[1;32m----> 6\u001b[1;33m \u001b[0mapi\u001b[0m\u001b[1;33m.\u001b[0m\u001b[0mevaluate_model\u001b[0m\u001b[1;33m(\u001b[0m\u001b[1;34m'RF'\u001b[0m\u001b[1;33m,\u001b[0m \u001b[0mmetrics\u001b[0m\u001b[1;33m)\u001b[0m\u001b[1;33m\u001b[0m\u001b[1;33m\u001b[0m\u001b[0m\n\u001b[0m",
      "\u001b[1;32m~\\ВШЭ\\Питон\\HW1\\client\\ml_api.py\u001b[0m in \u001b[0;36mevaluate_model\u001b[1;34m(self, model_name, metrics)\u001b[0m\n\u001b[0;32m    101\u001b[0m             \u001b[0mprint\u001b[0m\u001b[1;33m(\u001b[0m\u001b[1;34mf'Model {model_name} evaluated'\u001b[0m\u001b[1;33m)\u001b[0m\u001b[1;33m\u001b[0m\u001b[1;33m\u001b[0m\u001b[0m\n\u001b[0;32m    102\u001b[0m         \u001b[1;32melse\u001b[0m\u001b[1;33m:\u001b[0m\u001b[1;33m\u001b[0m\u001b[1;33m\u001b[0m\u001b[0m\n\u001b[1;32m--> 103\u001b[1;33m             \u001b[1;32mraise\u001b[0m \u001b[0mException\u001b[0m\u001b[1;33m(\u001b[0m\u001b[0mr\u001b[0m\u001b[1;33m.\u001b[0m\u001b[0mtext\u001b[0m\u001b[1;33m)\u001b[0m\u001b[1;33m\u001b[0m\u001b[1;33m\u001b[0m\u001b[0m\n\u001b[0m\u001b[0;32m    104\u001b[0m \u001b[1;33m\u001b[0m\u001b[0m\n\u001b[0;32m    105\u001b[0m     \u001b[1;32mdef\u001b[0m \u001b[0mpredict_model\u001b[0m\u001b[1;33m(\u001b[0m\u001b[0mself\u001b[0m\u001b[1;33m,\u001b[0m \u001b[0mmodel_name\u001b[0m\u001b[1;33m,\u001b[0m \u001b[0mpredict_type\u001b[0m \u001b[1;33m=\u001b[0m \u001b[1;34m'predict'\u001b[0m\u001b[1;33m,\u001b[0m \u001b[0msample_type\u001b[0m\u001b[1;33m=\u001b[0m\u001b[1;34m'test'\u001b[0m\u001b[1;33m)\u001b[0m\u001b[1;33m:\u001b[0m\u001b[1;33m\u001b[0m\u001b[1;33m\u001b[0m\u001b[0m\n",
      "\u001b[1;31mException\u001b[0m: Model not fitted"
     ]
    }
   ],
   "source": [
    "# по понятным причинам у нас не получилось оценить модель, так как она еще не обучена\n",
    "metrics = {\n",
    "    'accuracy_score':'predict',\n",
    "    'roc_auc_score' : 'predict_proba'\n",
    "}\n",
    "api.evaluate_model('RF', metrics)"
   ]
  },
  {
   "cell_type": "code",
   "execution_count": 22,
   "id": "7689fbba-1c60-4694-be9f-cbf08afb5727",
   "metadata": {},
   "outputs": [
    {
     "name": "stdout",
     "output_type": "stream",
     "text": [
      "Fitting RF...\n",
      "Model RF fitted\n"
     ]
    }
   ],
   "source": [
    "api.fit_model('RF', short_list, 'target')"
   ]
  },
  {
   "cell_type": "code",
   "execution_count": 23,
   "id": "19cf32e7-8cb3-4bd4-a76b-04ca00d14997",
   "metadata": {},
   "outputs": [
    {
     "name": "stdout",
     "output_type": "stream",
     "text": [
      "Evaluating RF...\n",
      "Model RF evaluated\n"
     ]
    }
   ],
   "source": [
    "metrics = {\n",
    "    'accuracy_score':'predict',\n",
    "    'roc_auc_score' : 'predict_proba'\n",
    "}\n",
    "api.evaluate_model('RF', metrics)"
   ]
  },
  {
   "cell_type": "code",
   "execution_count": 24,
   "id": "1506b148-16e6-414e-8f61-ed15085a7dd3",
   "metadata": {},
   "outputs": [
    {
     "data": {
      "text/plain": [
       "{'RF': {'accuracy_score': 0.9941132621166022,\n",
       "  'roc_auc_score': 0.5075025686949578}}"
      ]
     },
     "execution_count": 24,
     "metadata": {},
     "output_type": "execute_result"
    }
   ],
   "source": [
    "api.get_evaluation_results()"
   ]
  }
 ],
 "metadata": {
  "kernelspec": {
   "display_name": "Python 3",
   "language": "python",
   "name": "python3"
  },
  "language_info": {
   "codemirror_mode": {
    "name": "ipython",
    "version": 3
   },
   "file_extension": ".py",
   "mimetype": "text/x-python",
   "name": "python",
   "nbconvert_exporter": "python",
   "pygments_lexer": "ipython3",
   "version": "3.8.8"
  }
 },
 "nbformat": 4,
 "nbformat_minor": 5
}
